{
 "cells": [
  {
   "cell_type": "markdown",
   "metadata": {},
   "source": [
    "# TP_encoder.py 를 이용해 /data/common/MIT-BIH 데이터셋 인코딩하기\n",
    "\n",
    "이 파일은 전처리가 오래 걸리는 경우를 위해 인코딩된 데이터를 저장할 필요가 있는 경우에 사용할 것\n",
    "\n",
    "해야 할 일들\n",
    "1. 데이터셋 불러오기\n",
    "2. 마지막 열 끊어서 따로 저장\n",
    "3. 데이터 인코딩하기 전에 0~1로 normalize\n",
    "4. 데이터들 인코딩해서 따로 저장"
   ]
  },
  {
   "cell_type": "code",
   "execution_count": null,
   "metadata": {},
   "outputs": [],
   "source": []
  }
 ],
 "metadata": {
  "language_info": {
   "name": "python"
  }
 },
 "nbformat": 4,
 "nbformat_minor": 2
}
